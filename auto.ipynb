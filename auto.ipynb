{
 "cells": [
  {
   "cell_type": "code",
   "execution_count": 17,
   "metadata": {},
   "outputs": [],
   "source": [
    "import os\n",
    "from typing import TypedDict\n",
    "from typing import Dict, List, Tuple, Annotated\n",
    "from langgraph.graph import StateGraph\n",
    "from langsmith import traceable\n",
    "from langchain_core.prompts import ChatPromptTemplate\n",
    "from langchain_core.output_parsers import StrOutputParser\n",
    "from langgraph.constants import START, END\n",
    "from langchain_groq import ChatGroq\n",
    "from pydantic import BaseModel\n",
    "from typing import Optional, Any\n",
    "from dataclasses import dataclass\n",
    "from dotenv import load_dotenv\n",
    "load_dotenv()\n",
    "\n",
    "# Initialize LLM\n",
    "os.environ[\"GROQ_API_KEY\"] = os.getenv(\"GROQ_API_KEY\")\n",
    "llm=ChatGroq(model=\"qwen-2.5-32b\")"
   ]
  },
  {
   "cell_type": "code",
   "execution_count": 18,
   "metadata": {},
   "outputs": [],
   "source": [
    "# Define the states\n",
    "@dataclass\n",
    "class BlogState:\n",
    "    topic: Optional[str] = None\n",
    "    outline: Optional[str] = None\n",
    "    draft: Optional[str] = None\n",
    "    edited_draft: Optional[str] = None"
   ]
  },
  {
   "cell_type": "code",
   "execution_count": 22,
   "metadata": {},
   "outputs": [],
   "source": [
    "# Define the nodes (functions)\n",
    "def select_topic(state: BlogState):\n",
    "    prompt = ChatPromptTemplate.from_template(\"Suggest a blog topic: {user_request}\")\n",
    "    chain = prompt | llm | StrOutputParser()\n",
    "    topic = chain.invoke({\"user_request\": \"Suggest a popular and interesting blog topic.\"})\n",
    "    return {\"topic\": topic}\n",
    "\n",
    "def generate_outline(state: BlogState):\n",
    "    prompt = ChatPromptTemplate.from_template(\"Generate an outline for a blog about: {topic}\")\n",
    "    chain = prompt | llm | StrOutputParser()\n",
    "    outline = chain.invoke({\"topic\": state.topic})\n",
    "    return {\"outline\": outline}\n",
    "\n",
    "def draft_content(state: BlogState):\n",
    "    prompt = ChatPromptTemplate.from_template(\"Write a blog draft based on the following outline: {outline}\")\n",
    "    chain = prompt | llm | StrOutputParser()\n",
    "    draft = chain.invoke({\"outline\": state.outline})\n",
    "    return {\"draft\": draft}\n",
    "\n",
    "def review_and_edit(state: BlogState):\n",
    "    prompt = ChatPromptTemplate.from_template(\"Review and edit the following blog draft: {draft}\")\n",
    "    chain = prompt | llm | StrOutputParser()\n",
    "    edited_draft = chain.invoke({\"draft\": state.draft})\n",
    "    return {\"edited_draft\": edited_draft}"
   ]
  },
  {
   "cell_type": "code",
   "execution_count": 23,
   "metadata": {},
   "outputs": [],
   "source": [
    "def publishing(state: BlogState):\n",
    "    print(f\"Final Blog Draft: \\n{state.edited_draft}\")\n",
    "    return {}"
   ]
  },
  {
   "cell_type": "code",
   "execution_count": 24,
   "metadata": {},
   "outputs": [
    {
     "data": {
      "text/plain": [
       "<langgraph.graph.state.StateGraph at 0x190e7725090>"
      ]
     },
     "execution_count": 24,
     "metadata": {},
     "output_type": "execute_result"
    }
   ],
   "source": [
    "# Define the graph\n",
    "workflow = StateGraph(BlogState)\n",
    "workflow.add_node(\"topic_selection\", select_topic)\n",
    "workflow.add_node(\"outline_generation\", generate_outline)\n",
    "workflow.add_node(\"draft_content\", draft_content)\n",
    "workflow.add_node(\"review_and_edit\", review_and_edit)\n",
    "workflow.add_node(\"publishing\", publishing)"
   ]
  },
  {
   "cell_type": "code",
   "execution_count": 25,
   "metadata": {},
   "outputs": [
    {
     "data": {
      "text/plain": [
       "<langgraph.graph.state.StateGraph at 0x190e7725090>"
      ]
     },
     "execution_count": 25,
     "metadata": {},
     "output_type": "execute_result"
    }
   ],
   "source": [
    "# Define the edges\n",
    "workflow.add_edge(\"topic_selection\", \"outline_generation\")\n",
    "workflow.add_edge(\"outline_generation\", \"draft_content\")\n",
    "workflow.add_edge(\"draft_content\", \"review_and_edit\")\n",
    "workflow.add_edge(\"review_and_edit\", \"publishing\")\n",
    "workflow.set_entry_point(\"topic_selection\")"
   ]
  },
  {
   "cell_type": "code",
   "execution_count": 27,
   "metadata": {},
   "outputs": [],
   "source": [
    "chain = workflow.compile()"
   ]
  },
  {
   "cell_type": "code",
   "execution_count": 28,
   "metadata": {},
   "outputs": [
    {
     "data": {
      "image/png": "[encoded data removed]",
      "text/plain": [
       "<IPython.core.display.Image object>"
      ]
     },
     "metadata": {},
     "output_type": "display_data"
    }
   ],
   "source": [
    "from IPython.display import Image, display\n",
    "display(Image(chain.get_graph().draw_mermaid_png()))"
   ]
  },
  {
   "cell_type": "code",
   "execution_count": 29,
   "metadata": {},
   "outputs": [
    {
     "name": "stdout",
     "output_type": "stream",
     "text": [
      "Final Blog Draft: \n",
      "Your blog draft is well-structured and covers a broad spectrum of topics relevant to the future of work. Here are some suggestions to refine and enhance your draft:\n",
      "\n",
      "### The Future of Work: How Technology is Reshaping Careers\n",
      "\n",
      "#### Introduction\n",
      "The concept of work has always been in flux, driven by technological advancements that redefine operations, collaboration, and innovation. This blog post explores the transformative impact of technology on careers, a trend that is not only inevitable but also profoundly transformative. Understanding these changes is critical for employers and employees as they navigate the evolving job market landscape.\n",
      "\n",
      "#### Section 1: The Technological Revolution in Context\n",
      "The current technological revolution, characterized by rapid advancements in artificial intelligence (AI), automation, and remote work technologies, is a continuation of a historical pattern of technological evolution that has reshaped work environments from the Industrial Revolution to the Information Age. Each wave of technology has led to job displacement and creation, requiring adaptation. Now, on the brink of a new era, this cycle is repeating itself at an unprecedented pace and scale.\n",
      "\n",
      "#### Section 2: AI and Automation: Threat or Opportunity?\n",
      "At the core of today's technological revolution are AI and automation. These technologies are revolutionizing industries like manufacturing, customer service, and data analysis, enhancing productivity and efficiency. However, they also pose a threat of job displacement. Addressing this requires a focus on upskilling and reskilling to align with the evolving demands of the job market.\n",
      "\n",
      "For instance, while AI can handle routine data entry in customer service, it also creates openings for employees to engage in more strategic and creative roles, such as crafting customer engagement strategies or interpreting complex data to guide business decisions.\n",
      "\n",
      "#### Section 3: The Rise of Remote Work\n",
      "The advent of remote work technologies has been a significant trend, especially accelerated by recent global events. Tools like Zoom, Slack, and Microsoft Teams have facilitated seamless communication and collaboration, making remote work not only feasible but increasingly desirable. While it offers flexibility and reduced commuting, it also poses challenges like maintaining work-life balance and fostering a cohesive company culture.\n",
      "\n",
      "Leadership is evolving to meet these changes, emphasizing trust, clear communication, and measurable goal setting over physical presence.\n",
      "\n",
      "#### Section 4: Navigating Career Development in the Digital Age\n",
      "In this digital era, adaptability and continuous learning are non-negotiable. The skills in high demand today might not be relevant tomorrow, and vice versa. Being able to learn new skills and adapt to changing environments is crucial. Emphasizing the importance of digital literacy, critical thinking, and emotional intelligence can help individuals navigate a technology-driven world more effectively.\n",
      "\n",
      "#### Section 5: Evolving Workplace Dynamics\n",
      "Technology is fundamentally altering workplace dynamics. Virtual collaboration tools are now essential for teams to function effectively, even when members are geographically dispersed. Physical office spaces are transforming to support hybrid models that combine physical and digital elements. Yet, the human element remains vital for building relationships and stimulating creativity.\n",
      "\n",
      "#### Section 6: Collective Action for Future Readiness\n",
      "Preparing for the future of work requires both individual and collective efforts. Educational institutions must adapt curricula to prepare students for the job market of tomorrow, and governments have a role in facilitating the transition through retraining programs and policies that promote an adaptable workforce.\n",
      "\n",
      "#### Conclusion\n",
      "Looking ahead, it's clear that technology will continue to redefine the world of work. Whether it's through AI, automation, remote work technologies, or evolving workplace dynamics, each development presents both challenges and opportunities. By embracing these changes and taking proactive steps in career development, we can look forward to a future where technology enhances our work, making it more meaningful and fulfilling.\n",
      "\n",
      "#### Additional Elements\n",
      "- **Infographics**: Use visual aids to depict statistics on remote work adoption, job market trends, and the skills gap.\n",
      "- **Case Studies**: Include real-life examples of organizations and individuals who have successfully navigated technological changes.\n",
      "- **Interactive Elements**: Offer a quiz to assess individual readiness for the future of work and a poll to gauge the most preferred work environments.\n",
      "- **Resources**: Provide a curated list of online courses and professional development tools to empower individuals to stay ahead in the evolving job market.\n",
      "\n",
      "By understanding and embracing these changes, we can look forward to a future where technology enriches our work experiences, making them more enriching and fulfilling.\n",
      "\n",
      "### Suggestions for Further Enhancement\n",
      "- Consider adding a section on the ethical considerations and societal impacts of these technological changes.\n",
      "- Include more specific examples or case studies in each section to illustrate points more vividly.\n",
      "- Ensure the language is engaging and accessible, perhaps by incorporating personal anecdotes or quotes from industry leaders.\n",
      "\n",
      "These adjustments should make your blog post more compelling and informative for your readers.\n"
     ]
    }
   ],
   "source": [
    "BlogState=chain.invoke({\"topic\":\"Blockchain\"})"
   ]
  },
  {
   "cell_type": "code",
   "execution_count": 30,
   "metadata": {},
   "outputs": [
    {
     "data": {
      "text/plain": [
       "{'topic': 'A popular and interesting blog topic could be \"The Future of Work: How Technology is Reshaping Careers.\" This topic can delve into the impacts of technological advancements like AI, automation, and remote work technologies on the job market, career development, and workplace dynamics. It\\'s a relevant and engaging subject as many people are curious about how these changes will affect their future employment and daily work lives.',\n",
       " 'outline': '### Blog Outline: The Future of Work: How Technology is Reshaping Careers\\n\\n#### Introduction\\n- Briefly introduce the concept of the future of work.\\n- Mention the role of technology in reshaping careers and the importance of understanding these changes.\\n\\n#### Section 1: Understanding the Current Technological Revolution\\n- Overview of current technological advancements (AI, automation, remote work technologies).\\n- Historical context: How past technological revolutions have reshaped work.\\n- The inevitability of technological change and its impact on the job market.\\n\\n#### Section 2: The Rise of AI and Automation\\n- Detailed discussion on AI and automation.\\n- Examples of industries heavily impacted by AI and automation (manufacturing, customer service, data analysis).\\n- The role of AI in enhancing productivity and efficiency.\\n- Concerns about job displacement and the need for upskilling.\\n\\n#### Section 3: Embracing Remote Work Technologies\\n- Overview of remote work technologies and their rise in popularity.\\n- Advantages and challenges of remote work.\\n- Impact on work-life balance and company culture.\\n- The changing dynamics of leadership and management in remote settings.\\n\\n#### Section 4: Career Development in the Digital Age\\n- The importance of adaptability and continuous learning.\\n- Skills that will be in demand in the future job market.\\n- Strategies for career development and planning in a rapidly changing job market.\\n\\n#### Section 5: Workplace Dynamics and Collaboration\\n- Changes in workplace dynamics due to technology.\\n- The impact of virtual collaboration tools on teamwork and communication.\\n- The future of office spaces: hybrid work environments.\\n- The role of human interaction in an increasingly digital world.\\n\\n#### Section 6: Preparing for the Future\\n- The role of education and training institutions in preparing the workforce.\\n- Government policies and initiatives to support workers in this transition.\\n- Personal strategies for individuals to adapt and thrive in the future of work.\\n\\n#### Conclusion\\n- Recap the key points discussed about how technology is reshaping careers.\\n- Encourage the audience to embrace change and be proactive in their career development.\\n- A final thought on the potential for a more inclusive and flexible future of work.\\n\\n#### Additional Elements\\n- Infographics: Visual representations of key statistics and future trends.\\n- Case Studies: Real-life examples of companies and individuals successfully navigating these changes.\\n- Interactive Elements: Polls or quizzes to engage readers and gather their thoughts on the future of work.\\n- Resources: Links to further reading and professional development tools.\\n\\nThis outline provides a comprehensive structure for exploring how technology is transforming the world of work, offering insights and strategies for navigating the changes ahead.',\n",
       " 'draft': '### The Future of Work: How Technology is Reshaping Careers\\n\\n#### Introduction\\nThe concept of work has been in a constant state of flux, driven by technological advancements that have redefined the way we operate, collaborate, and innovate. In this blog post, we delve into how technology is currently reshaping careers, a trend which is not only inevitable but also profoundly transformative. Understanding these changes is crucial for both employers and employees as we navigate the evolving landscape of the job market.\\n\\n#### Section 1: Understanding the Current Technological Revolution\\nThe current technological revolution is marked by the rapid development and widespread adoption of technologies such as artificial intelligence (AI), automation, and remote work technologies. These advancements are not unprecedented; they follow a pattern of technological evolution that has reshaped work environments throughout history. From the Industrial Revolution to the Information Age, each new wave of technology has led to job displacement and creation, necessitating adaptation. Now, as we stand on the cusp of a new era, the same cycle is repeating, but with unprecedented speed and scale.\\n\\n#### Section 2: The Rise of AI and Automation\\nArtificial intelligence and automation are at the heart of the current technological revolution. Industries like manufacturing, customer service, and data analysis are being transformed by these technologies, which enhance productivity and efficiency. However, as these technologies automate tasks, concerns about job displacement arise. This necessitates a focus on upskilling and reskilling to adapt to the new demands of the job market.\\n\\nFor example, while AI can handle repetitive data entry tasks in customer service, it also opens up opportunities for employees to focus on more strategic and creative tasks, such as developing customer engagement strategies or analyzing complex data sets to inform business decisions.\\n\\n#### Section 3: Embracing Remote Work Technologies\\nThe rise of remote work technologies has been a significant development, particularly accelerated by recent global events. Platforms like Zoom, Slack, and Microsoft Teams have enabled seamless communication and collaboration, making remote work not just possible, but also increasingly popular. While remote work brings flexibility and reduces commuting times, it also presents its own set of challenges, such as maintaining work-life balance and building a cohesive company culture.\\n\\nLeadership and management styles are shifting to accommodate remote work, focusing more on trust, clear communication, and setting measurable goals rather than physical presence.\\n\\n#### Section 4: Career Development in the Digital Age\\nIn this digital age, adaptability and continuous learning are paramount. The skills that are in high demand today may not be so tomorrow, and vice versa. The ability to acquire new skills and adapt to changing environments is critical. Skills such as digital literacy, critical thinking, and emotional intelligence are becoming increasingly important as they allow individuals to navigate the complexities of a technology-driven world.\\n\\n#### Section 5: Workplace Dynamics and Collaboration\\nWorkplace dynamics are undergoing significant changes due to technology. Tools for virtual collaboration have become integral to how teams operate, enabling geographically dispersed teams to work together effectively. Office spaces are evolving to support more flexible and hybrid work environments, blending physical and digital spaces. Despite these changes, the role of human interaction remains crucial, as the human touch is essential for building relationships and fostering creativity.\\n\\n#### Section 6: Preparing for the Future\\nPreparing for the future of work involves not just individual action but also collective efforts from educational institutions and governments. Educational systems must adapt to equip students with the skills needed for the future job market. Governments can play a role in supporting workers through the transition, providing funding for retraining programs and implementing policies that foster an adaptable workforce.\\n\\n#### Conclusion\\nAs we look to the future, it’s clear that technology will continue to shape the world of work. From AI and automation to remote work technologies and new workplace dynamics, each development offers both challenges and opportunities. By embracing these changes and being proactive in our approach to career development, we can look forward to a more inclusive and flexible future of work. It is not just about surviving the changes but thriving in the new landscape.\\n\\n#### Additional Elements\\n- **Infographics**: Visual representations of the statistics on remote work adoption rates, job market trends, and the skills gap.\\n- **Case Studies**: Real-life examples of organizations and individuals who have adapted successfully to the technological changes.\\n- **Interactive Elements**: A quiz on the readiness of individuals to face the future of work, and a poll on the most desirable work environments.\\n- **Resources**: A list of online courses and professional development tools to help individuals stay ahead in the changing job market.\\n\\nBy understanding and embracing these changes, we can look forward to a future where technology enhances our work, making it more meaningful and fulfilling.',\n",
       " 'edited_draft': \"Your blog draft is well-structured and covers a broad spectrum of topics relevant to the future of work. Here are some suggestions to refine and enhance your draft:\\n\\n### The Future of Work: How Technology is Reshaping Careers\\n\\n#### Introduction\\nThe concept of work has always been in flux, driven by technological advancements that redefine operations, collaboration, and innovation. This blog post explores the transformative impact of technology on careers, a trend that is not only inevitable but also profoundly transformative. Understanding these changes is critical for employers and employees as they navigate the evolving job market landscape.\\n\\n#### Section 1: The Technological Revolution in Context\\nThe current technological revolution, characterized by rapid advancements in artificial intelligence (AI), automation, and remote work technologies, is a continuation of a historical pattern of technological evolution that has reshaped work environments from the Industrial Revolution to the Information Age. Each wave of technology has led to job displacement and creation, requiring adaptation. Now, on the brink of a new era, this cycle is repeating itself at an unprecedented pace and scale.\\n\\n#### Section 2: AI and Automation: Threat or Opportunity?\\nAt the core of today's technological revolution are AI and automation. These technologies are revolutionizing industries like manufacturing, customer service, and data analysis, enhancing productivity and efficiency. However, they also pose a threat of job displacement. Addressing this requires a focus on upskilling and reskilling to align with the evolving demands of the job market.\\n\\nFor instance, while AI can handle routine data entry in customer service, it also creates openings for employees to engage in more strategic and creative roles, such as crafting customer engagement strategies or interpreting complex data to guide business decisions.\\n\\n#### Section 3: The Rise of Remote Work\\nThe advent of remote work technologies has been a significant trend, especially accelerated by recent global events. Tools like Zoom, Slack, and Microsoft Teams have facilitated seamless communication and collaboration, making remote work not only feasible but increasingly desirable. While it offers flexibility and reduced commuting, it also poses challenges like maintaining work-life balance and fostering a cohesive company culture.\\n\\nLeadership is evolving to meet these changes, emphasizing trust, clear communication, and measurable goal setting over physical presence.\\n\\n#### Section 4: Navigating Career Development in the Digital Age\\nIn this digital era, adaptability and continuous learning are non-negotiable. The skills in high demand today might not be relevant tomorrow, and vice versa. Being able to learn new skills and adapt to changing environments is crucial. Emphasizing the importance of digital literacy, critical thinking, and emotional intelligence can help individuals navigate a technology-driven world more effectively.\\n\\n#### Section 5: Evolving Workplace Dynamics\\nTechnology is fundamentally altering workplace dynamics. Virtual collaboration tools are now essential for teams to function effectively, even when members are geographically dispersed. Physical office spaces are transforming to support hybrid models that combine physical and digital elements. Yet, the human element remains vital for building relationships and stimulating creativity.\\n\\n#### Section 6: Collective Action for Future Readiness\\nPreparing for the future of work requires both individual and collective efforts. Educational institutions must adapt curricula to prepare students for the job market of tomorrow, and governments have a role in facilitating the transition through retraining programs and policies that promote an adaptable workforce.\\n\\n#### Conclusion\\nLooking ahead, it's clear that technology will continue to redefine the world of work. Whether it's through AI, automation, remote work technologies, or evolving workplace dynamics, each development presents both challenges and opportunities. By embracing these changes and taking proactive steps in career development, we can look forward to a future where technology enhances our work, making it more meaningful and fulfilling.\\n\\n#### Additional Elements\\n- **Infographics**: Use visual aids to depict statistics on remote work adoption, job market trends, and the skills gap.\\n- **Case Studies**: Include real-life examples of organizations and individuals who have successfully navigated technological changes.\\n- **Interactive Elements**: Offer a quiz to assess individual readiness for the future of work and a poll to gauge the most preferred work environments.\\n- **Resources**: Provide a curated list of online courses and professional development tools to empower individuals to stay ahead in the evolving job market.\\n\\nBy understanding and embracing these changes, we can look forward to a future where technology enriches our work experiences, making them more enriching and fulfilling.\\n\\n### Suggestions for Further Enhancement\\n- Consider adding a section on the ethical considerations and societal impacts of these technological changes.\\n- Include more specific examples or case studies in each section to illustrate points more vividly.\\n- Ensure the language is engaging and accessible, perhaps by incorporating personal anecdotes or quotes from industry leaders.\\n\\nThese adjustments should make your blog post more compelling and informative for your readers.\"}"
      ]
     },
     "execution_count": 30,
     "metadata": {},
     "output_type": "execute_result"
    }
   ],
   "source": [
    "BlogState"
   ]
  }
 ],
 "metadata": {
  "kernelspec": {
   "display_name": "Python 3",
   "language": "python",
   "name": "python3"
  },
  "language_info": {
   "codemirror_mode": {
    "name": "ipython",
    "version": 3
   },
   "file_extension": ".py",
   "mimetype": "text/x-python",
   "name": "python",
   "nbconvert_exporter": "python",
   "pygments_lexer": "ipython3",
   "version": "3.13.0"
  }
 },
 "nbformat": 4,
 "nbformat_minor": 2
}
